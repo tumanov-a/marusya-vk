{
 "cells": [
  {
   "cell_type": "code",
   "execution_count": 1,
   "metadata": {},
   "outputs": [
    {
     "data": {
      "application/vnd.jupyter.widget-view+json": {
       "model_id": "98372134867647b99ccda17ef714527d",
       "version_major": 2,
       "version_minor": 0
      },
      "text/plain": [
       "Downloading:   0%|          | 0.00/377 [00:00<?, ?B/s]"
      ]
     },
     "metadata": {},
     "output_type": "display_data"
    },
    {
     "data": {
      "application/vnd.jupyter.widget-view+json": {
       "model_id": "8c20da95c1644c1b9b87878bd016afec",
       "version_major": 2,
       "version_minor": 0
      },
      "text/plain": [
       "Downloading:   0%|          | 0.00/235k [00:00<?, ?B/s]"
      ]
     },
     "metadata": {},
     "output_type": "display_data"
    },
    {
     "data": {
      "application/vnd.jupyter.widget-view+json": {
       "model_id": "08b2e00910ca4133b6cc968d79b75303",
       "version_major": 2,
       "version_minor": 0
      },
      "text/plain": [
       "Downloading:   0%|          | 0.00/457k [00:00<?, ?B/s]"
      ]
     },
     "metadata": {},
     "output_type": "display_data"
    },
    {
     "data": {
      "application/vnd.jupyter.widget-view+json": {
       "model_id": "3ab7263962db407a9057d256b04600e3",
       "version_major": 2,
       "version_minor": 0
      },
      "text/plain": [
       "Downloading:   0%|          | 0.00/112 [00:00<?, ?B/s]"
      ]
     },
     "metadata": {},
     "output_type": "display_data"
    },
    {
     "data": {
      "application/vnd.jupyter.widget-view+json": {
       "model_id": "566f6a5d45244d10bbab2a93ee25d24a",
       "version_major": 2,
       "version_minor": 0
      },
      "text/plain": [
       "Downloading:   0%|          | 0.00/957 [00:00<?, ?B/s]"
      ]
     },
     "metadata": {},
     "output_type": "display_data"
    },
    {
     "data": {
      "application/vnd.jupyter.widget-view+json": {
       "model_id": "ad4aff21e90b4d98b3becdc8206abaea",
       "version_major": 2,
       "version_minor": 0
      },
      "text/plain": [
       "Downloading:   0%|          | 0.00/45.0M [00:00<?, ?B/s]"
      ]
     },
     "metadata": {},
     "output_type": "display_data"
    }
   ],
   "source": [
    "import torch\n",
    "from transformers import AutoTokenizer, AutoModelForSequenceClassification\n",
    "\n",
    "model_checkpoint = 'cointegrated/rubert-tiny-toxicity'\n",
    "tokenizer = AutoTokenizer.from_pretrained(model_checkpoint)\n",
    "model = AutoModelForSequenceClassification.from_pretrained(model_checkpoint)\n",
    "\n",
    "if torch.cuda.is_available():\n",
    "    model.cuda()\n",
    "    \n",
    "def text2toxicity(text, aggregate=True):\n",
    "    \"\"\" Calculate toxicity of a text (if aggregate=True) or a vector of toxicity aspects (if aggregate=False)\"\"\"\n",
    "    with torch.no_grad():\n",
    "        inputs = tokenizer(text, return_tensors='pt', truncation=True, padding=True).to(model.device)\n",
    "        proba = torch.sigmoid(model(**inputs).logits).cpu().numpy()\n",
    "    if isinstance(text, str):\n",
    "        proba = proba[0]\n",
    "    if aggregate:\n",
    "        return 1 - proba.T[0] * (1 - proba.T[-1])\n",
    "    return proba"
   ]
  },
  {
   "cell_type": "code",
   "execution_count": 2,
   "metadata": {},
   "outputs": [],
   "source": [
    "import pandas as pd\n",
    "\n",
    "csv_data = pd.read_csv('punc_train.tsv', sep='\\t', header=0)\n",
    "csv_data = csv_data[['punc_phrase', 'punc_context', 'label']]\n",
    "csv_data.columns = ['phrase', 'context', 'label']\n",
    "csv_data.drop_duplicates(['context', 'phrase', 'label'], inplace=True)"
   ]
  },
  {
   "cell_type": "code",
   "execution_count": 37,
   "metadata": {},
   "outputs": [],
   "source": [
    "csv_data['context'] = csv_data['context'].apply(lambda x: eval(x))"
   ]
  },
  {
   "cell_type": "code",
   "execution_count": 29,
   "metadata": {},
   "outputs": [],
   "source": [
    "csv_data['toxicity_phrase'] = csv_data['phrase'].apply(lambda x: text2toxicity(x, True))"
   ]
  },
  {
   "cell_type": "code",
   "execution_count": 41,
   "metadata": {},
   "outputs": [],
   "source": [
    "def toxicity_of_context(context):\n",
    "    toxicities = []\n",
    "    for x in context:\n",
    "        user_repl = x['user']\n",
    "        if user_repl:\n",
    "            repl_toxicity = text2toxicity(user_repl, True)\n",
    "            toxicities.append(repl_toxicity)\n",
    "        else:\n",
    "            continue\n",
    "    mean_toxicity = np.mean(toxicities) if toxicities else 0\n",
    "    return mean_toxicity"
   ]
  },
  {
   "cell_type": "code",
   "execution_count": 42,
   "metadata": {},
   "outputs": [],
   "source": [
    "import numpy as np\n",
    "\n",
    "\n",
    "csv_data['toxicity_user_context'] = csv_data['context'].apply(lambda x: toxicity_of_context(x))"
   ]
  },
  {
   "cell_type": "code",
   "execution_count": 52,
   "metadata": {},
   "outputs": [
    {
     "data": {
      "text/plain": [
       "array([list([{'user': '', 'marusia': ''}, {'user': '', 'marusia': ' [Добрый вечер, Амина!] | [date: Воскресенье, 14 августа] | [temp: 32] | [ Новости кино и компьютерных игр (⚡DTF) {Включи новости DTF}, Погода {Погода в понедельник}, Давай играть в загадки {Давай играть в загадки}, Почитаю свежие посты (Что нового ВКонтакте?) {Почитай ленту VK}, Игра Города {Давай сыграем в города?}, Радио {Включи Эхо Москвы}, Включу плейлист для тренировки (Время спорта! 💪) {Включи плейлист для спорта}, Новые источники в «Новостях» (Включу Лента.ру) {Включи новости Лента.ру}, Таймер {Поставь таймер на полчаса}]'}, {'user': '', 'marusia': ' [Добрый вечер, Амина!] | [date: Воскресенье, 14 августа] | [temp: 32] | [ Новости кино и компьютерных игр (⚡DTF) {Включи новости DTF}, Погода {Брать ли зонт завтра?}, Загадки {Давай сыграем в загадки}, Давай сыграем в города {Давай сыграем в города}, Радио {Включи Весна ФМ}, Новые источники в «Новостях» (Включу Лента.ру) {Включи новости Лента.ру}, Таймер {Таймер на 20 минут}, Включу плейлист для тренировки (Время спорта! 💪) {Включи плейлист для спорта}, Почитаю свежие посты (Что нового ВКонтакте?) {Почитай ленту VK}]'}, {'user': '', 'marusia': ''}, {'user': 'Маруся, ты дура.', 'marusia': 'Я так не думаю, но ладно'}]),\n",
       "       list([{'user': '', 'marusia': ''}, {'user': '', 'marusia': ' [Добрый вечер!] | [date: Пятница, 7 октября] | [temp: 16] | [ Погода {Погода на сегодня}, Игра Города {Давай поиграем в города}, Радио {Включи Серебряный Дождь}, Таймер {Поставь таймер на 15 минут}]'}, {'user': '', 'marusia': ''}, {'user': '', 'marusia': ' [Добрый вечер!] | [date: Суббота, 8 октября] | [temp: 16] | [ Игра Голоса зверей {Запусти игру \"Голоса зверей\"}, Давай играть в загадки {Давай играть в загадки}, Викторина \"Клевер\" {Давай поиграем в \"Клевер\"?}]'}, {'user': 'Кто дебил? Вова или Савва?', 'marusia': ' - Савва Иванович!: За что уничтожили Мамонтова. Савва Мамонтов. Владислав Анатольевич Бахревский.'}]),\n",
       "       list([{'user': 'Ой ой ой. Чтобы ты сдохла.', 'marusia': 'Как вы ругаетесь'}, {'user': 'Да ты сдохла.', 'marusia': 'Только чур не обзываться'}, {'user': 'Чтобы ты сдохла.', 'marusia': 'Можно я не буду выполнять эту команду?'}, {'user': 'Чтобы ты сдохла.', 'marusia': 'Сегодня слишком хороший день для этого'}, {'user': 'Чтобы ты сдохла.', 'marusia': 'Можно я не буду выполнять эту команду?'}]),\n",
       "       list([{'user': 'Отстань, чтобы ты сдохла.', 'marusia': 'Как грубо:'}, {'user': 'Ой ой ой. Чтобы ты сдохла.', 'marusia': 'Как вы ругаетесь'}, {'user': 'Да ты сдохла.', 'marusia': 'Только чур не обзываться'}, {'user': 'Чтобы ты сдохла.', 'marusia': 'Можно я не буду выполнять эту команду?'}, {'user': 'Чтобы ты сдохла.', 'marusia': 'Сегодня слишком хороший день для этого'}]),\n",
       "       list([{'user': 'Ага. Все так говорят. А потом как приходит и говорят Я с ножом пришла, я дебил.', 'marusia': 'Вообще, вымещать гнев лучше в спортивном зале'}, {'user': '', 'marusia': ''}, {'user': '', 'marusia': ' [Добрый вечер!] | [date: Пятница, 16 сентября] | [temp: 24] | [ Подойдёт и взрослым, и детям (Семейный режим 👪 ) {Расскажи про Семейный режим}, Купите подарок себе или близким 🎁 (Скидка на VK Капсулы) {Какое первое правило скидок}, Погода {Брать ли зонт завтра?}, Загадки {Давай сыграем в загадки}, Давай сыграем в города {Давай сыграем в города}, Радио {Поставь Серебряный Дождь}, Таймер {Поставь таймер на полчаса}]'}, {'user': '', 'marusia': ''}, {'user': '', 'marusia': ''}]),\n",
       "       list([{'user': 'Как страстная женщина сосет член стриптизера.', 'marusia': 'Мне очень жаль, но я не знаю, что вам ответить'}, {'user': 'Маруся, как страстно страстная, развратная девушка сосет членский призеры.', 'marusia': 'Не буду врать и выкручиваться — я не знаю ответ'}, {'user': 'Как страшная девушка сосет член стриптизера.', 'marusia': 'Мне очень жаль, но я не знаю, что вам ответить'}, {'user': 'Маруся, как растрещенная девушка сосет член стриптизера', 'marusia': 'Не знаю, что вам ответить'}, {'user': 'Маруся, как лихая девушка сосет член стриптизера', 'marusia': 'Вопрос на миллион!'}]),\n",
       "       list([{'user': '', 'marusia': ''}, {'user': 'Как страстная женщина сосет член стриптизера.', 'marusia': 'Мне очень жаль, но я не знаю, что вам ответить'}, {'user': 'Маруся, как страстно страстная, развратная девушка сосет членский призеры.', 'marusia': 'Не буду врать и выкручиваться — я не знаю ответ'}, {'user': 'Как страшная девушка сосет член стриптизера.', 'marusia': 'Мне очень жаль, но я не знаю, что вам ответить'}, {'user': 'Маруся, как растрещенная девушка сосет член стриптизера', 'marusia': 'Не знаю, что вам ответить'}]),\n",
       "       list([{'user': 'Маруся, как правильно пользоваться? Мне член.', 'marusia': 'Самостоятельно напрягая и расслабляя мышцы члена, приподнимать его и отпускать и так до полного расслабления члена.'}, {'user': '', 'marusia': ''}, {'user': 'Как страстная женщина сосет член стриптизера.', 'marusia': 'Мне очень жаль, но я не знаю, что вам ответить'}, {'user': 'Маруся, как страстно страстная, развратная девушка сосет членский призеры.', 'marusia': 'Не буду врать и выкручиваться — я не знаю ответ'}, {'user': 'Как страшная девушка сосет член стриптизера.', 'marusia': 'Мне очень жаль, но я не знаю, что вам ответить'}]),\n",
       "       list([{'user': 'Ты дура.', 'marusia': 'Вы излучаете слишком много агрессии! Рекомендую вам сладкое какао, картинки с котятами и массаж воротниковой зоны'}, {'user': 'Ты дура.', 'marusia': 'Я бы ответила, но мне воспитание не позволяет'}, {'user': 'Ты дура.', 'marusia': 'Ну не злитесь вы так. Давайте лучше помиримся?'}, {'user': 'Ты дура.', 'marusia': 'Похоже, я что-то не то сказала'}, {'user': 'Ты дура.', 'marusia': 'Ой-ой-ой, какие мы грозные!'}]),\n",
       "       list([{'user': 'Маруся, как страстно страстная, развратная девушка сосет членский призеры.', 'marusia': 'Не буду врать и выкручиваться — я не знаю ответ'}, {'user': 'Как страшная девушка сосет член стриптизера.', 'marusia': 'Мне очень жаль, но я не знаю, что вам ответить'}, {'user': 'Маруся, как растрещенная девушка сосет член стриптизера', 'marusia': 'Не знаю, что вам ответить'}, {'user': 'Маруся, как лихая девушка сосет член стриптизера', 'marusia': 'Вопрос на миллион!'}, {'user': 'Маруся как клиентка сосет члена стриптизера', 'marusia': 'Сговорившись между собой зрелые женщины сосут большие члены стриптизёров своими пошлыми губками.'}])],\n",
       "      dtype=object)"
      ]
     },
     "execution_count": 52,
     "metadata": {},
     "output_type": "execute_result"
    }
   ],
   "source": [
    "csv_data.sort_values(by='toxicity_user_context', ascending=False)['context'].values[:10]"
   ]
  },
  {
   "cell_type": "code",
   "execution_count": 47,
   "metadata": {},
   "outputs": [
    {
     "data": {
      "text/html": [
       "<div>\n",
       "<style scoped>\n",
       "    .dataframe tbody tr th:only-of-type {\n",
       "        vertical-align: middle;\n",
       "    }\n",
       "\n",
       "    .dataframe tbody tr th {\n",
       "        vertical-align: top;\n",
       "    }\n",
       "\n",
       "    .dataframe thead th {\n",
       "        text-align: right;\n",
       "    }\n",
       "</style>\n",
       "<table border=\"1\" class=\"dataframe\">\n",
       "  <thead>\n",
       "    <tr style=\"text-align: right;\">\n",
       "      <th></th>\n",
       "      <th>label</th>\n",
       "      <th>toxicity_phrase</th>\n",
       "      <th>toxicity_user_context</th>\n",
       "    </tr>\n",
       "  </thead>\n",
       "  <tbody>\n",
       "    <tr>\n",
       "      <th>label</th>\n",
       "      <td>1.00000</td>\n",
       "      <td>-0.024380</td>\n",
       "      <td>-0.021680</td>\n",
       "    </tr>\n",
       "    <tr>\n",
       "      <th>toxicity_phrase</th>\n",
       "      <td>-0.02438</td>\n",
       "      <td>1.000000</td>\n",
       "      <td>0.223775</td>\n",
       "    </tr>\n",
       "    <tr>\n",
       "      <th>toxicity_user_context</th>\n",
       "      <td>-0.02168</td>\n",
       "      <td>0.223775</td>\n",
       "      <td>1.000000</td>\n",
       "    </tr>\n",
       "  </tbody>\n",
       "</table>\n",
       "</div>"
      ],
      "text/plain": [
       "                         label  toxicity_phrase  toxicity_user_context\n",
       "label                  1.00000        -0.024380              -0.021680\n",
       "toxicity_phrase       -0.02438         1.000000               0.223775\n",
       "toxicity_user_context -0.02168         0.223775               1.000000"
      ]
     },
     "execution_count": 47,
     "metadata": {},
     "output_type": "execute_result"
    }
   ],
   "source": [
    "csv_data[csv_data['toxicity_user_context'] != 0].corr()"
   ]
  },
  {
   "cell_type": "code",
   "execution_count": 44,
   "metadata": {},
   "outputs": [
    {
     "data": {
      "text/html": [
       "<div>\n",
       "<style scoped>\n",
       "    .dataframe tbody tr th:only-of-type {\n",
       "        vertical-align: middle;\n",
       "    }\n",
       "\n",
       "    .dataframe tbody tr th {\n",
       "        vertical-align: top;\n",
       "    }\n",
       "\n",
       "    .dataframe thead th {\n",
       "        text-align: right;\n",
       "    }\n",
       "</style>\n",
       "<table border=\"1\" class=\"dataframe\">\n",
       "  <thead>\n",
       "    <tr style=\"text-align: right;\">\n",
       "      <th></th>\n",
       "      <th>label</th>\n",
       "      <th>toxicity_phrase</th>\n",
       "      <th>toxicity_user_context</th>\n",
       "    </tr>\n",
       "  </thead>\n",
       "  <tbody>\n",
       "    <tr>\n",
       "      <th>label</th>\n",
       "      <td>1.000000</td>\n",
       "      <td>-0.024029</td>\n",
       "      <td>-0.023225</td>\n",
       "    </tr>\n",
       "    <tr>\n",
       "      <th>toxicity_phrase</th>\n",
       "      <td>-0.024029</td>\n",
       "      <td>1.000000</td>\n",
       "      <td>0.223819</td>\n",
       "    </tr>\n",
       "    <tr>\n",
       "      <th>toxicity_user_context</th>\n",
       "      <td>-0.023225</td>\n",
       "      <td>0.223819</td>\n",
       "      <td>1.000000</td>\n",
       "    </tr>\n",
       "  </tbody>\n",
       "</table>\n",
       "</div>"
      ],
      "text/plain": [
       "                          label  toxicity_phrase  toxicity_user_context\n",
       "label                  1.000000        -0.024029              -0.023225\n",
       "toxicity_phrase       -0.024029         1.000000               0.223819\n",
       "toxicity_user_context -0.023225         0.223819               1.000000"
      ]
     },
     "execution_count": 44,
     "metadata": {},
     "output_type": "execute_result"
    }
   ],
   "source": [
    "csv_data.corr()"
   ]
  },
  {
   "cell_type": "code",
   "execution_count": 36,
   "metadata": {},
   "outputs": [
    {
     "data": {
      "text/html": [
       "<div>\n",
       "<style scoped>\n",
       "    .dataframe tbody tr th:only-of-type {\n",
       "        vertical-align: middle;\n",
       "    }\n",
       "\n",
       "    .dataframe tbody tr th {\n",
       "        vertical-align: top;\n",
       "    }\n",
       "\n",
       "    .dataframe thead th {\n",
       "        text-align: right;\n",
       "    }\n",
       "</style>\n",
       "<table border=\"1\" class=\"dataframe\">\n",
       "  <thead>\n",
       "    <tr style=\"text-align: right;\">\n",
       "      <th></th>\n",
       "      <th>phrase</th>\n",
       "      <th>label</th>\n",
       "      <th>toxicity_phrase</th>\n",
       "    </tr>\n",
       "  </thead>\n",
       "  <tbody>\n",
       "    <tr>\n",
       "      <th>9391</th>\n",
       "      <td>Я убью тебя, тварь.</td>\n",
       "      <td>0</td>\n",
       "      <td>0.999921</td>\n",
       "    </tr>\n",
       "    <tr>\n",
       "      <th>26144</th>\n",
       "      <td>Если она просто тебе по со сукам, лицо тебя ра...</td>\n",
       "      <td>1</td>\n",
       "      <td>0.999908</td>\n",
       "    </tr>\n",
       "    <tr>\n",
       "      <th>8884</th>\n",
       "      <td>Писюнчик. писюнчик. Ты любишь писюнчик.</td>\n",
       "      <td>0</td>\n",
       "      <td>0.999867</td>\n",
       "    </tr>\n",
       "    <tr>\n",
       "      <th>28728</th>\n",
       "      <td>Почему она так долго с ними? Почему Денис не т...</td>\n",
       "      <td>1</td>\n",
       "      <td>0.999837</td>\n",
       "    </tr>\n",
       "    <tr>\n",
       "      <th>21393</th>\n",
       "      <td>Маруся, ты проститутка.</td>\n",
       "      <td>0</td>\n",
       "      <td>0.999823</td>\n",
       "    </tr>\n",
       "    <tr>\n",
       "      <th>25667</th>\n",
       "      <td>Ты писюнчик, бобряночка.</td>\n",
       "      <td>0</td>\n",
       "      <td>0.999807</td>\n",
       "    </tr>\n",
       "    <tr>\n",
       "      <th>21615</th>\n",
       "      <td>Тут говорят, что ты овца тупорылая.</td>\n",
       "      <td>0</td>\n",
       "      <td>0.999805</td>\n",
       "    </tr>\n",
       "    <tr>\n",
       "      <th>9913</th>\n",
       "      <td>Ты баран, дебил кусок.</td>\n",
       "      <td>0</td>\n",
       "      <td>0.999794</td>\n",
       "    </tr>\n",
       "    <tr>\n",
       "      <th>14837</th>\n",
       "      <td>Да ты вообще конченая дебилка. Конченая. конче...</td>\n",
       "      <td>0</td>\n",
       "      <td>0.999793</td>\n",
       "    </tr>\n",
       "    <tr>\n",
       "      <th>18466</th>\n",
       "      <td>Вот иди ты в задницу.</td>\n",
       "      <td>0</td>\n",
       "      <td>0.999784</td>\n",
       "    </tr>\n",
       "    <tr>\n",
       "      <th>18454</th>\n",
       "      <td>Вы говорите, что я дебил и лох.</td>\n",
       "      <td>1</td>\n",
       "      <td>0.999783</td>\n",
       "    </tr>\n",
       "    <tr>\n",
       "      <th>13366</th>\n",
       "      <td>А ты слышала, чтобы тебе говорили, что ты прид...</td>\n",
       "      <td>0</td>\n",
       "      <td>0.999779</td>\n",
       "    </tr>\n",
       "    <tr>\n",
       "      <th>6571</th>\n",
       "      <td>Алиса, скажи, все таки проститутка.</td>\n",
       "      <td>1</td>\n",
       "      <td>0.999776</td>\n",
       "    </tr>\n",
       "    <tr>\n",
       "      <th>26223</th>\n",
       "      <td>Ты идиотка тупорылая.</td>\n",
       "      <td>1</td>\n",
       "      <td>0.999725</td>\n",
       "    </tr>\n",
       "    <tr>\n",
       "      <th>10554</th>\n",
       "      <td>Ты робот, дебил.</td>\n",
       "      <td>0</td>\n",
       "      <td>0.999712</td>\n",
       "    </tr>\n",
       "    <tr>\n",
       "      <th>19002</th>\n",
       "      <td>Маруся, ты что, дебил, что ли? Мое имя и фамил...</td>\n",
       "      <td>0</td>\n",
       "      <td>0.999693</td>\n",
       "    </tr>\n",
       "    <tr>\n",
       "      <th>11057</th>\n",
       "      <td>Потому что ты чурка, у тебя мозгов нет, чтобы ...</td>\n",
       "      <td>0</td>\n",
       "      <td>0.999685</td>\n",
       "    </tr>\n",
       "    <tr>\n",
       "      <th>27928</th>\n",
       "      <td>Ты проститутка, Ой.</td>\n",
       "      <td>0</td>\n",
       "      <td>0.999662</td>\n",
       "    </tr>\n",
       "    <tr>\n",
       "      <th>25926</th>\n",
       "      <td>Потому что ты меня. Во первых, ты меня перебив...</td>\n",
       "      <td>0</td>\n",
       "      <td>0.999649</td>\n",
       "    </tr>\n",
       "    <tr>\n",
       "      <th>5229</th>\n",
       "      <td>Меня нарисуй, дура.</td>\n",
       "      <td>0</td>\n",
       "      <td>0.999646</td>\n",
       "    </tr>\n",
       "    <tr>\n",
       "      <th>26064</th>\n",
       "      <td>Вы два дебила.</td>\n",
       "      <td>0</td>\n",
       "      <td>0.999625</td>\n",
       "    </tr>\n",
       "    <tr>\n",
       "      <th>19961</th>\n",
       "      <td>Почему ты не можешь включить порнуху? Ты что, ...</td>\n",
       "      <td>0</td>\n",
       "      <td>0.999623</td>\n",
       "    </tr>\n",
       "    <tr>\n",
       "      <th>7885</th>\n",
       "      <td>Ну, ты тварь.</td>\n",
       "      <td>0</td>\n",
       "      <td>0.999617</td>\n",
       "    </tr>\n",
       "    <tr>\n",
       "      <th>7638</th>\n",
       "      <td>Ты что, долбоебка?</td>\n",
       "      <td>0</td>\n",
       "      <td>0.999610</td>\n",
       "    </tr>\n",
       "    <tr>\n",
       "      <th>5067</th>\n",
       "      <td>Переведи с русского на английский тупой. Что д...</td>\n",
       "      <td>0</td>\n",
       "      <td>0.999609</td>\n",
       "    </tr>\n",
       "    <tr>\n",
       "      <th>10946</th>\n",
       "      <td>Ты серая мышь, да. я грозная. А ты, нет, дура.</td>\n",
       "      <td>0</td>\n",
       "      <td>0.999607</td>\n",
       "    </tr>\n",
       "    <tr>\n",
       "      <th>19902</th>\n",
       "      <td>Я тебя ненавижу, идиотка.</td>\n",
       "      <td>0</td>\n",
       "      <td>0.999595</td>\n",
       "    </tr>\n",
       "    <tr>\n",
       "      <th>12429</th>\n",
       "      <td>Маруся, а ты бываешь дебилкой.</td>\n",
       "      <td>1</td>\n",
       "      <td>0.999594</td>\n",
       "    </tr>\n",
       "    <tr>\n",
       "      <th>9531</th>\n",
       "      <td>Давай я приду и удалю твое приложение Нафиг, д...</td>\n",
       "      <td>0</td>\n",
       "      <td>0.999593</td>\n",
       "    </tr>\n",
       "    <tr>\n",
       "      <th>9452</th>\n",
       "      <td>О, а как ты реагируешь на оскорбление? Вот, на...</td>\n",
       "      <td>0</td>\n",
       "      <td>0.999590</td>\n",
       "    </tr>\n",
       "    <tr>\n",
       "      <th>6375</th>\n",
       "      <td>Маруся, ты идиотка.</td>\n",
       "      <td>0</td>\n",
       "      <td>0.999584</td>\n",
       "    </tr>\n",
       "    <tr>\n",
       "      <th>1130</th>\n",
       "      <td>А есть долбоебы вообще?</td>\n",
       "      <td>0</td>\n",
       "      <td>0.999579</td>\n",
       "    </tr>\n",
       "    <tr>\n",
       "      <th>1372</th>\n",
       "      <td>Маруся сама ты подонок.</td>\n",
       "      <td>0</td>\n",
       "      <td>0.999569</td>\n",
       "    </tr>\n",
       "    <tr>\n",
       "      <th>6768</th>\n",
       "      <td>Дура тупая. дура тупая. Ты коза.</td>\n",
       "      <td>0</td>\n",
       "      <td>0.999565</td>\n",
       "    </tr>\n",
       "    <tr>\n",
       "      <th>6721</th>\n",
       "      <td>Тупая ты овца.</td>\n",
       "      <td>0</td>\n",
       "      <td>0.999557</td>\n",
       "    </tr>\n",
       "    <tr>\n",
       "      <th>13800</th>\n",
       "      <td>Сосед Маруся, отсоси у тракториста.</td>\n",
       "      <td>0</td>\n",
       "      <td>0.999517</td>\n",
       "    </tr>\n",
       "    <tr>\n",
       "      <th>8359</th>\n",
       "      <td>Какая же ты, все таки проститутка.</td>\n",
       "      <td>0</td>\n",
       "      <td>0.999507</td>\n",
       "    </tr>\n",
       "    <tr>\n",
       "      <th>27515</th>\n",
       "      <td>Я ей сказал, что ты дебил шоколадный.</td>\n",
       "      <td>1</td>\n",
       "      <td>0.999505</td>\n",
       "    </tr>\n",
       "    <tr>\n",
       "      <th>8107</th>\n",
       "      <td>А эти ублюдки то?</td>\n",
       "      <td>1</td>\n",
       "      <td>0.999488</td>\n",
       "    </tr>\n",
       "    <tr>\n",
       "      <th>10</th>\n",
       "      <td>Маруся, как растрещенная девушка сосет член ст...</td>\n",
       "      <td>0</td>\n",
       "      <td>0.999467</td>\n",
       "    </tr>\n",
       "    <tr>\n",
       "      <th>22174</th>\n",
       "      <td>А я что, тупая дура?</td>\n",
       "      <td>0</td>\n",
       "      <td>0.999457</td>\n",
       "    </tr>\n",
       "    <tr>\n",
       "      <th>840</th>\n",
       "      <td>Маруся, ты дура.</td>\n",
       "      <td>0</td>\n",
       "      <td>0.999440</td>\n",
       "    </tr>\n",
       "    <tr>\n",
       "      <th>12558</th>\n",
       "      <td>Маруся, ты дура.</td>\n",
       "      <td>1</td>\n",
       "      <td>0.999440</td>\n",
       "    </tr>\n",
       "    <tr>\n",
       "      <th>19838</th>\n",
       "      <td>Маруся, ты дура.</td>\n",
       "      <td>0</td>\n",
       "      <td>0.999440</td>\n",
       "    </tr>\n",
       "    <tr>\n",
       "      <th>3422</th>\n",
       "      <td>Маруся, ты дура.</td>\n",
       "      <td>0</td>\n",
       "      <td>0.999440</td>\n",
       "    </tr>\n",
       "    <tr>\n",
       "      <th>16057</th>\n",
       "      <td>Маруся, ты дура.</td>\n",
       "      <td>0</td>\n",
       "      <td>0.999440</td>\n",
       "    </tr>\n",
       "    <tr>\n",
       "      <th>3573</th>\n",
       "      <td>Маруся, ты дура.</td>\n",
       "      <td>0</td>\n",
       "      <td>0.999440</td>\n",
       "    </tr>\n",
       "    <tr>\n",
       "      <th>21863</th>\n",
       "      <td>Маруся, ты дура.</td>\n",
       "      <td>0</td>\n",
       "      <td>0.999440</td>\n",
       "    </tr>\n",
       "    <tr>\n",
       "      <th>15513</th>\n",
       "      <td>А ты обосруся.</td>\n",
       "      <td>0</td>\n",
       "      <td>0.999428</td>\n",
       "    </tr>\n",
       "    <tr>\n",
       "      <th>2304</th>\n",
       "      <td>Google. А ты будешь говорить Человека, паука, ...</td>\n",
       "      <td>1</td>\n",
       "      <td>0.999417</td>\n",
       "    </tr>\n",
       "  </tbody>\n",
       "</table>\n",
       "</div>"
      ],
      "text/plain": [
       "                                                  phrase  label  \\\n",
       "9391                                 Я убью тебя, тварь.      0   \n",
       "26144  Если она просто тебе по со сукам, лицо тебя ра...      1   \n",
       "8884             Писюнчик. писюнчик. Ты любишь писюнчик.      0   \n",
       "28728  Почему она так долго с ними? Почему Денис не т...      1   \n",
       "21393                            Маруся, ты проститутка.      0   \n",
       "25667                           Ты писюнчик, бобряночка.      0   \n",
       "21615                Тут говорят, что ты овца тупорылая.      0   \n",
       "9913                              Ты баран, дебил кусок.      0   \n",
       "14837  Да ты вообще конченая дебилка. Конченая. конче...      0   \n",
       "18466                              Вот иди ты в задницу.      0   \n",
       "18454                    Вы говорите, что я дебил и лох.      1   \n",
       "13366  А ты слышала, чтобы тебе говорили, что ты прид...      0   \n",
       "6571                 Алиса, скажи, все таки проститутка.      1   \n",
       "26223                              Ты идиотка тупорылая.      1   \n",
       "10554                                   Ты робот, дебил.      0   \n",
       "19002  Маруся, ты что, дебил, что ли? Мое имя и фамил...      0   \n",
       "11057  Потому что ты чурка, у тебя мозгов нет, чтобы ...      0   \n",
       "27928                                Ты проститутка, Ой.      0   \n",
       "25926  Потому что ты меня. Во первых, ты меня перебив...      0   \n",
       "5229                                 Меня нарисуй, дура.      0   \n",
       "26064                                     Вы два дебила.      0   \n",
       "19961  Почему ты не можешь включить порнуху? Ты что, ...      0   \n",
       "7885                                       Ну, ты тварь.      0   \n",
       "7638                                  Ты что, долбоебка?      0   \n",
       "5067   Переведи с русского на английский тупой. Что д...      0   \n",
       "10946     Ты серая мышь, да. я грозная. А ты, нет, дура.      0   \n",
       "19902                          Я тебя ненавижу, идиотка.      0   \n",
       "12429                     Маруся, а ты бываешь дебилкой.      1   \n",
       "9531   Давай я приду и удалю твое приложение Нафиг, д...      0   \n",
       "9452   О, а как ты реагируешь на оскорбление? Вот, на...      0   \n",
       "6375                                 Маруся, ты идиотка.      0   \n",
       "1130                             А есть долбоебы вообще?      0   \n",
       "1372                             Маруся сама ты подонок.      0   \n",
       "6768                    Дура тупая. дура тупая. Ты коза.      0   \n",
       "6721                                      Тупая ты овца.      0   \n",
       "13800                Сосед Маруся, отсоси у тракториста.      0   \n",
       "8359                  Какая же ты, все таки проститутка.      0   \n",
       "27515              Я ей сказал, что ты дебил шоколадный.      1   \n",
       "8107                                   А эти ублюдки то?      1   \n",
       "10     Маруся, как растрещенная девушка сосет член ст...      0   \n",
       "22174                               А я что, тупая дура?      0   \n",
       "840                                     Маруся, ты дура.      0   \n",
       "12558                                   Маруся, ты дура.      1   \n",
       "19838                                   Маруся, ты дура.      0   \n",
       "3422                                    Маруся, ты дура.      0   \n",
       "16057                                   Маруся, ты дура.      0   \n",
       "3573                                    Маруся, ты дура.      0   \n",
       "21863                                   Маруся, ты дура.      0   \n",
       "15513                                     А ты обосруся.      0   \n",
       "2304   Google. А ты будешь говорить Человека, паука, ...      1   \n",
       "\n",
       "       toxicity_phrase  \n",
       "9391          0.999921  \n",
       "26144         0.999908  \n",
       "8884          0.999867  \n",
       "28728         0.999837  \n",
       "21393         0.999823  \n",
       "25667         0.999807  \n",
       "21615         0.999805  \n",
       "9913          0.999794  \n",
       "14837         0.999793  \n",
       "18466         0.999784  \n",
       "18454         0.999783  \n",
       "13366         0.999779  \n",
       "6571          0.999776  \n",
       "26223         0.999725  \n",
       "10554         0.999712  \n",
       "19002         0.999693  \n",
       "11057         0.999685  \n",
       "27928         0.999662  \n",
       "25926         0.999649  \n",
       "5229          0.999646  \n",
       "26064         0.999625  \n",
       "19961         0.999623  \n",
       "7885          0.999617  \n",
       "7638          0.999610  \n",
       "5067          0.999609  \n",
       "10946         0.999607  \n",
       "19902         0.999595  \n",
       "12429         0.999594  \n",
       "9531          0.999593  \n",
       "9452          0.999590  \n",
       "6375          0.999584  \n",
       "1130          0.999579  \n",
       "1372          0.999569  \n",
       "6768          0.999565  \n",
       "6721          0.999557  \n",
       "13800         0.999517  \n",
       "8359          0.999507  \n",
       "27515         0.999505  \n",
       "8107          0.999488  \n",
       "10            0.999467  \n",
       "22174         0.999457  \n",
       "840           0.999440  \n",
       "12558         0.999440  \n",
       "19838         0.999440  \n",
       "3422          0.999440  \n",
       "16057         0.999440  \n",
       "3573          0.999440  \n",
       "21863         0.999440  \n",
       "15513         0.999428  \n",
       "2304          0.999417  "
      ]
     },
     "execution_count": 36,
     "metadata": {},
     "output_type": "execute_result"
    }
   ],
   "source": [
    "csv_data[['phrase', 'label', 'toxicity_phrase']].sort_values(by='toxicity_phrase', ascending=False).head(50)"
   ]
  },
  {
   "cell_type": "code",
   "execution_count": null,
   "metadata": {},
   "outputs": [],
   "source": [
    "csv_data['']"
   ]
  },
  {
   "cell_type": "code",
   "execution_count": 27,
   "metadata": {},
   "outputs": [
    {
     "data": {
      "text/plain": [
       "0.024522583384078755"
      ]
     },
     "execution_count": 27,
     "metadata": {},
     "output_type": "execute_result"
    }
   ],
   "source": [
    "text2toxicity('Ты милаш', True)"
   ]
  },
  {
   "cell_type": "code",
   "execution_count": 21,
   "metadata": {},
   "outputs": [
    {
     "data": {
      "text/plain": [
       "0.99975103"
      ]
     },
     "execution_count": 21,
     "metadata": {},
     "output_type": "execute_result"
    }
   ],
   "source": [
    "text2toxicity(csv_data['phrase'][150], False)[0]"
   ]
  },
  {
   "cell_type": "code",
   "execution_count": 14,
   "metadata": {},
   "outputs": [
    {
     "data": {
      "text/plain": [
       "'Скажи это голосом учителя, пожалуйста.'"
      ]
     },
     "execution_count": 14,
     "metadata": {},
     "output_type": "execute_result"
    }
   ],
   "source": [
    "csv_data['phrase'][150]"
   ]
  },
  {
   "cell_type": "code",
   "execution_count": null,
   "metadata": {},
   "outputs": [],
   "source": []
  }
 ],
 "metadata": {
  "kernelspec": {
   "display_name": "Python 3.8.10 64-bit",
   "language": "python",
   "name": "python3"
  },
  "language_info": {
   "codemirror_mode": {
    "name": "ipython",
    "version": 3
   },
   "file_extension": ".py",
   "mimetype": "text/x-python",
   "name": "python",
   "nbconvert_exporter": "python",
   "pygments_lexer": "ipython3",
   "version": "3.8.10"
  },
  "orig_nbformat": 4,
  "vscode": {
   "interpreter": {
    "hash": "31f2aee4e71d21fbe5cf8b01ff0e069b9275f58929596ceb00d14d90e3e16cd6"
   }
  }
 },
 "nbformat": 4,
 "nbformat_minor": 2
}
